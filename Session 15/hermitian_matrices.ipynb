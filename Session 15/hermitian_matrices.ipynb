{
 "cells": [
  {
   "cell_type": "code",
   "execution_count": 2,
   "id": "68861e70",
   "metadata": {},
   "outputs": [
    {
     "data": {
      "text/latex": [
       "$\\displaystyle \\mathbf{A}=\\begin{bmatrix}5 &4 + 7i &6-11i\\\\[1em]4-7i &13 &7\\\\[1em]6 + 11i &7 &8\\\\\\end{bmatrix}$"
      ],
      "text/plain": [
       "<IPython.core.display.Math object>"
      ]
     },
     "metadata": {},
     "output_type": "display_data"
    },
    {
     "data": {
      "text/latex": [
       "$\\displaystyle \\mathbf{A^{-1}}=\\begin{bmatrix}-0.01816 &-0.0033 + 0.04392i &0.01651-0.06341i\\\\[1em]-0.0033-0.04392i &0.03864 &0.02906 + 0.0284i\\\\[1em]0.01651 + 0.06341i &0.02906-0.0284i &0\\\\\\end{bmatrix}$"
      ],
      "text/plain": [
       "<IPython.core.display.Math object>"
      ]
     },
     "metadata": {},
     "output_type": "display_data"
    },
    {
     "data": {
      "text/latex": [
       "$\\displaystyle \\mathbf{A^{-1 \\dagger}}\\begin{bmatrix}-0.01816 &-0.0033 + 0.04392i &0.01651-0.06341i\\\\[1em]-0.0033-0.04392i &0.03864 &0.02906 + 0.0284i\\\\[1em]0.01651 + 0.06341i &0.02906-0.0284i &0\\\\\\end{bmatrix}$"
      ],
      "text/plain": [
       "<IPython.core.display.Math object>"
      ]
     },
     "metadata": {},
     "output_type": "display_data"
    },
    {
     "data": {
      "text/latex": [
       "$\\displaystyle \\mathbf{A^{-1}=A^{-1 \\dagger}}\\;?\\;\\rightarrow\\;True$"
      ],
      "text/plain": [
       "<IPython.core.display.Math object>"
      ]
     },
     "metadata": {},
     "output_type": "display_data"
    }
   ],
   "source": [
    "\"\"\"hermitian_matrices.ipynb\"\"\"\n",
    "\n",
    "# Cell 01 - The inverse of a Hermitian matrix is Hermitian\n",
    "\n",
    "import numpy as np\n",
    "from IPython.core.display import Math\n",
    "from qis101_utils import as_latex\n",
    "\n",
    "# Let A be a Hermitian Matrix, I borrowed Dr. Biersach's from matrix_identities\n",
    "# and changed a few values\n",
    "a = np.array([[5, 4 + 7j, 6 - 11j], [4 - 7j, 13, 7], [6 + 11j, 7, 8]])\n",
    "\n",
    "# Take its inverse using numpy\n",
    "a_inverse = np.linalg.inv(a)\n",
    "\n",
    "# Demonstrate the property of Hermitian matrices that they are their\n",
    "# own adjoint\n",
    "# Using some of Dr. Biersach's display code from matrix_identities\n",
    "display(as_latex(a, prefix=r\"\\mathbf{A}=\"))\n",
    "display(as_latex(a_inverse, prefix=r\"\\mathbf{A^{-1}}=\"))\n",
    "display(as_latex(a_inverse.conj().T, prefix=r\"\\mathbf{A^{-1 \\dagger}}\"))\n",
    "\n",
    "display(\n",
    "    Math(\n",
    "        rf\"\\mathbf{{A^{{-1}}=A^{{-1 \\dagger}}}}\"\n",
    "        rf\"\\;?\\;\\rightarrow\\;{np.isclose(a_inverse, a_inverse.conj().T).all()}\"\n",
    "    )\n",
    ")\n"
   ]
  },
  {
   "cell_type": "code",
   "execution_count": 5,
   "id": "4bb39fd2",
   "metadata": {},
   "outputs": [
    {
     "data": {
      "text/latex": [
       "$\\displaystyle \\mathbf{A}=\\begin{bmatrix}5 &4 + 7i &6-11i\\\\[1em]4-7i &13 &7\\\\[1em]6 + 11i &7 &8\\\\\\end{bmatrix}$"
      ],
      "text/plain": [
       "<IPython.core.display.Math object>"
      ]
     },
     "metadata": {},
     "output_type": "display_data"
    },
    {
     "data": {
      "text/latex": [
       "$\\displaystyle \\mathbf{A^{2}}=\\begin{bmatrix}247 &114 + 49i &106-94i\\\\[1em]114-49i &283 &94-86i\\\\[1em]106 + 94i &94 + 86i &270\\\\\\end{bmatrix}$"
      ],
      "text/plain": [
       "<IPython.core.display.Math object>"
      ]
     },
     "metadata": {},
     "output_type": "display_data"
    },
    {
     "data": {
      "text/latex": [
       "$\\displaystyle \\mathbf{A^{2 \\dagger}}\\begin{bmatrix}247 &114 + 49i &106-94i\\\\[1em]114-49i &283 &94-86i\\\\[1em]106 + 94i &94 + 86i &270\\\\\\end{bmatrix}$"
      ],
      "text/plain": [
       "<IPython.core.display.Math object>"
      ]
     },
     "metadata": {},
     "output_type": "display_data"
    },
    {
     "data": {
      "text/latex": [
       "$\\displaystyle \\mathbf{A^{2}=A^{2 \\dagger}}\\;?\\;\\rightarrow\\;True$"
      ],
      "text/plain": [
       "<IPython.core.display.Math object>"
      ]
     },
     "metadata": {},
     "output_type": "display_data"
    }
   ],
   "source": [
    "# Cell 02 - A Hermitian matrix raised to an integer power is Hermitian\n",
    "\n",
    "# Declare a power to raise the matrix to\n",
    "n = 2\n",
    "\n",
    "# Use numpy to raise it\n",
    "a_power = np.linalg.matrix_power(a, n)\n",
    "\n",
    "# Demonstrate the property of Hermitian matrices that they are their\n",
    "# own adjoint\n",
    "# Using some of Dr. Biersach's display code from matrix_identities\n",
    "display(as_latex(a, prefix=r\"\\mathbf{A}=\"))\n",
    "display(as_latex(a_power, prefix=r\"\\mathbf{A^{2}}=\"))\n",
    "display(as_latex(a_power.conj().T, prefix=r\"\\mathbf{A^{2 \\dagger}}\"))\n",
    "\n",
    "display(\n",
    "    Math(\n",
    "        rf\"\\mathbf{{A^{{2}}=A^{{2 \\dagger}}}}\"\n",
    "        rf\"\\;?\\;\\rightarrow\\;{np.isclose(a_power, a_power.conj().T).all()}\"\n",
    "    )\n",
    ")"
   ]
  },
  {
   "cell_type": "code",
   "execution_count": null,
   "id": "7a7ff99d",
   "metadata": {},
   "outputs": [],
   "source": []
  }
 ],
 "metadata": {
  "kernelspec": {
   "display_name": "qis101",
   "language": "python",
   "name": "python3"
  },
  "language_info": {
   "codemirror_mode": {
    "name": "ipython",
    "version": 3
   },
   "file_extension": ".py",
   "mimetype": "text/x-python",
   "name": "python",
   "nbconvert_exporter": "python",
   "pygments_lexer": "ipython3",
   "version": "3.12.11"
  }
 },
 "nbformat": 4,
 "nbformat_minor": 5
}
