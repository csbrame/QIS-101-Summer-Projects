{
 "cells": [
  {
   "cell_type": "code",
   "execution_count": 1,
   "id": "9e6cba7b",
   "metadata": {},
   "outputs": [
    {
     "name": "stdout",
     "output_type": "stream",
     "text": [
      "Combustion Equation\n",
      "x0 = 2\n",
      "x1 = 25\n",
      "x2 = 16\n",
      "x3 = 18\n"
     ]
    }
   ],
   "source": [
    "\"\"\"octane_combustion.ipynb\"\"\"\n",
    "\n",
    "# Cell 01\n",
    "\n",
    "import pulp\n",
    "\n",
    "# Define our variables for minimzation problem\n",
    "x0 = pulp.LpVariable(name=\"x0\", lowBound=1, cat=\"Integer\")  # C8H18\n",
    "x1 = pulp.LpVariable(name=\"x1\", lowBound=1, cat=\"Integer\")  # O2\n",
    "x2 = pulp.LpVariable(name=\"x2\", lowBound=1, cat=\"Integer\")  # CO2\n",
    "x3 = pulp.LpVariable(name=\"x3\", lowBound=1, cat=\"Integer\")  # H2O\n",
    "\n",
    "# Define the problem as a minimization problem\n",
    "prob = pulp.LpProblem(sense=pulp.LpMinimize)\n",
    "prob.name = \"Combustion Equation\"\n",
    "\n",
    "# Supply the boolean conditions acting as equations\n",
    "prob += 8 * x0 == x2  # Carbon Atoms\n",
    "prob += 9 * x0 == x3  # Hydrogen Atoms, reduce 18:2 to 9:1\n",
    "prob += 2 * x1 == 2 * x2 + x3  # Oxygen Atoms\n",
    "\n",
    "# Add the sum of the coefficients to the problem to let pulp\n",
    "# minimize it, aka choose the smallest working values\n",
    "prob += pulp.lpSum([x0, x1, x2, x3])\n",
    "\n",
    "# Let pulp solve the problem and tell us the smallest coefficients\n",
    "# Specify msg=0 so it doesn't display a message\n",
    "prob.solve(pulp.PULP_CBC_CMD(msg=0))\n",
    "\n",
    "# Print the problem name and the coefficients determined by pulp\n",
    "print(prob.name)\n",
    "print(f\"x0 = {pulp.value(x0):n}\")\n",
    "print(f\"x1 = {pulp.value(x1):n}\")\n",
    "print(f\"x2 = {pulp.value(x2):n}\")\n",
    "print(f\"x3 = {pulp.value(x3):n}\")"
   ]
  },
  {
   "cell_type": "code",
   "execution_count": null,
   "id": "6355fa65",
   "metadata": {},
   "outputs": [],
   "source": []
  }
 ],
 "metadata": {
  "kernelspec": {
   "display_name": "qis101",
   "language": "python",
   "name": "python3"
  },
  "language_info": {
   "codemirror_mode": {
    "name": "ipython",
    "version": 3
   },
   "file_extension": ".py",
   "mimetype": "text/x-python",
   "name": "python",
   "nbconvert_exporter": "python",
   "pygments_lexer": "ipython3",
   "version": "3.12.11"
  }
 },
 "nbformat": 4,
 "nbformat_minor": 5
}
