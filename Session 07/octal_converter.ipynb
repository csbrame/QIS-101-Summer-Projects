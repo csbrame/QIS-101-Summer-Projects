{
 "cells": [
  {
   "cell_type": "code",
   "execution_count": 1,
   "id": "9d61b0c6",
   "metadata": {},
   "outputs": [
    {
     "name": "stdout",
     "output_type": "stream",
     "text": [
      "2323 in octal = 1,235 in decimal\n"
     ]
    }
   ],
   "source": [
    "\"\"\"octal_converter.ipynb\"\"\"\n",
    "\n",
    "# Cell 01\n",
    "\n",
    "# Starting from Dr. Biersach's code in binary_conversion.ipynb\n",
    "\n",
    "\n",
    "def octal_to_decimal(oc_str):\n",
    "    # Reverse string 'oc' because the\n",
    "    # LSB starts the algorithm\n",
    "    oc_str = oc_str[::-1]\n",
    "    sum = 0\n",
    "    for position in range(len(oc_str)):\n",
    "        weight = pow(8, position)\n",
    "        # We are converting a string to an integer by using int()\n",
    "        digit = int(oc_str[position])\n",
    "        sum += digit * weight\n",
    "    return sum\n",
    "\n",
    "\n",
    "oc_str = \"2323\"\n",
    "d = octal_to_decimal(oc_str)\n",
    "print(f\"{oc_str} in octal = {d:,} in decimal\")\n"
   ]
  },
  {
   "cell_type": "code",
   "execution_count": 5,
   "id": "403040f2",
   "metadata": {},
   "outputs": [
    {
     "name": "stdout",
     "output_type": "stream",
     "text": [
      "113 in decimal = 1376401 in octal\n"
     ]
    }
   ],
   "source": [
    "# Cell 02\n",
    "\n",
    "# Same idea, start with Dr. Biersach's code\n",
    "\n",
    "\n",
    "def decimal_to_octal(d: int):\n",
    "    oc_str = \"\"\n",
    "    while d > 0:\n",
    "        # Append the octal digit to the string\n",
    "        # We're changing an int to a string with str()\n",
    "        oc_str += str(d % 8)\n",
    "        d = int(d / 2)\n",
    "    # Reverse string 'oc' because the\n",
    "    # LSB must be in first position\n",
    "    oc_str = oc_str[::-1]\n",
    "    return oc_str\n",
    "\n",
    "\n",
    "d = 113\n",
    "oc_str = decimal_to_octal(d)\n",
    "print(f\"{d:,} in decimal = {oc_str} in octal\")"
   ]
  },
  {
   "cell_type": "code",
   "execution_count": 6,
   "id": "c6ea13f3",
   "metadata": {},
   "outputs": [
    {
     "name": "stdout",
     "output_type": "stream",
     "text": [
      "2323 in octal = 1,235 in decimal\n"
     ]
    }
   ],
   "source": [
    "# Cell 03\n",
    "\n",
    "# Once again, refer to base_conversion.ipynb\n",
    "\n",
    "import numpy as np\n",
    "\n",
    "# Better to call the built-in integer constructor\n",
    "oc_str = \"2323\"\n",
    "# You can pass the bass of your input string into the integer function\n",
    "d = int(oc_str, 8)\n",
    "print(f\"{oc_str} in octal = {d:,} in decimal\")"
   ]
  },
  {
   "cell_type": "code",
   "execution_count": 7,
   "id": "ddb6049f",
   "metadata": {},
   "outputs": [
    {
     "name": "stdout",
     "output_type": "stream",
     "text": [
      "1,235 in decimal = 2323 in octal\n"
     ]
    }
   ],
   "source": [
    "# Cell 04\n",
    "\n",
    "# Once again, refer to base_conversion.ipynb\n",
    "\n",
    "# Better to call numpy's built-in base converter\n",
    "d = 1235\n",
    "# base_repr takes two inputs, the integer and the desired base\n",
    "oc_str = np.base_repr(d, base=8)\n",
    "print(f\"{d:,} in decimal = {oc_str} in octal\")"
   ]
  },
  {
   "cell_type": "code",
   "execution_count": null,
   "id": "71797d8d",
   "metadata": {},
   "outputs": [],
   "source": []
  }
 ],
 "metadata": {
  "kernelspec": {
   "display_name": "qis101",
   "language": "python",
   "name": "python3"
  },
  "language_info": {
   "codemirror_mode": {
    "name": "ipython",
    "version": 3
   },
   "file_extension": ".py",
   "mimetype": "text/x-python",
   "name": "python",
   "nbconvert_exporter": "python",
   "pygments_lexer": "ipython3",
   "version": "3.12.11"
  }
 },
 "nbformat": 4,
 "nbformat_minor": 5
}
