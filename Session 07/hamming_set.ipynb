{
 "cells": [
  {
   "cell_type": "code",
   "execution_count": 87,
   "id": "047b3378",
   "metadata": {},
   "outputs": [
    {
     "data": {
      "text/plain": [
       "'hamming_set.ipynb'"
      ]
     },
     "execution_count": 87,
     "metadata": {},
     "output_type": "execute_result"
    }
   ],
   "source": [
    "\"\"\"hamming_set.ipynb\"\"\"\n",
    "\n",
    "# Cell 01\n",
    "\n",
    "# We want all positive integers less than 256 with a Hamming\n",
    "# weight of 2, 3, or 4. These three weights are mutually exclusive\n",
    "# sets, so we can find the numbers separately\n",
    "# 256 in binary is 100000000, meaning all positive integers less than\n",
    "# that will have 8 digits in their bitstring\n",
    "\n",
    "# I think the way I'm coming up with for this is building big\n",
    "# matrices"
   ]
  },
  {
   "cell_type": "code",
   "execution_count": 88,
   "id": "f442c363",
   "metadata": {},
   "outputs": [],
   "source": [
    "# Cell 02\n",
    "\n",
    "import numpy as np\n",
    "\n",
    "\n",
    "def arrange_single_bit(space: int):\n",
    "    # OK this method is for arranging a single bit over a 'space'\n",
    "    # For example, one bit over 7 open spaces\n",
    "    # That's not very well explained, but hopefully it becomes clear\n",
    "\n",
    "    # Create an empty list which will be the object holding a list of\n",
    "    # the binary strings of all numbers with Hamming weight 2\n",
    "    hamming_strings = []\n",
    "    # Call a counter which starts with the same value as our space\n",
    "    count = space\n",
    "\n",
    "    # Start counting down!\n",
    "    while count > 0:\n",
    "        # First, we're going to concatenate a vector of ones to\n",
    "        # an identity matrix of dimension count x count.\n",
    "        # If count is 3 for example, we get 1100, 1010, 1001 in\n",
    "        # 3 rows of a matrix\n",
    "        place_holder = np.concatenate(\n",
    "            (np.ones(count)[np.newaxis].T, np.identity(count)), axis=1\n",
    "        )\n",
    "        # We're looking for bit strings of length 8 to be consistent\n",
    "        # See Cell 01 for 8 length rationale\n",
    "        for _ in range(space - count):\n",
    "            # So fill out any open space to the left with zeroes\n",
    "            # From earlier example, 1100 -> 00001100\n",
    "            place_holder = np.concatenate(\n",
    "                (np.zeros(count)[np.newaxis].T, place_holder), axis=1\n",
    "            )\n",
    "        # For the very first pass, we want to replace the empty list\n",
    "        # with the matrix of our values\n",
    "        if count == space:\n",
    "            hamming_strings = place_holder\n",
    "        # For every subsequent pass, we want to put the next values\n",
    "        # below the existing ones, extending our list\n",
    "        else:\n",
    "            hamming_strings = np.concatenate((hamming_strings, place_holder), axis=0)\n",
    "        # Continue counting down\n",
    "        count -= 1\n",
    "    # Return the array of arranged bits!\n",
    "    return hamming_strings\n",
    "\n",
    "\n",
    "# Convert the array of bits to strings, join them, and base convert\n",
    "def convert_to_decimal(strings_array):\n",
    "    # Our matrices have shape (n, 8), but we really want (n, 1)\n",
    "    # So we're going to change the values in the matrix to dtype int\n",
    "    # then str, followed by joining the strings along each row\n",
    "    hamming_strings = strings_array.astype(int).astype(str)\n",
    "    hamming_strings = np.apply_along_axis(\"\".join, 1, hamming_strings)\n",
    "    # Once our strings are joined, we should have n bit strings\n",
    "    # We're going to vectorize the python int function to\n",
    "    # perform base conversion over the whole ndarray at once, since\n",
    "    # our objective is to collect all of the integers by their hamming weight\n",
    "    base_converter = np.vectorize(int)\n",
    "    return base_converter(hamming_strings, 2)\n"
   ]
  },
  {
   "cell_type": "code",
   "execution_count": 89,
   "id": "be3bc477",
   "metadata": {},
   "outputs": [
    {
     "name": "stdout",
     "output_type": "stream",
     "text": [
      "The integers less than 256 with Hamming weight 2 are: \n",
      "[  3   5   6   9  10  12  17  18  20  24  33  34  36  40  48  65  66  68\n",
      "  72  80  96 129 130 132 136 144 160 192]\n"
     ]
    }
   ],
   "source": [
    "# Cell 03\n",
    "\n",
    "# Consider the case of hamming weight of 2. This is just arranging\n",
    "# 2 ones over the space of 8 open bit positions.\n",
    "# And that problem is equivalent to fixing the first at position 1,\n",
    "# then arranging the second over 7 positions. Then fixing bit 1 at space 2\n",
    "# and arranging one bit over 6 positions. Repeat, repeat, until one bit\n",
    "# is arranged over 7, 6, 5, 4, 3, 2, 1 spaces.\n",
    "\n",
    "# In the function in Cell 02, we do that arranging. We produce\n",
    "# all of those combinations, then go back to decimal integers\n",
    "# So, if you want to know all of the integers less than 256 with\n",
    "# hamming weight 2, that is just...\n",
    "\n",
    "\n",
    "print(\"The integers less than 256 with Hamming weight 2 are: \")\n",
    "print(np.sort(hamming_two := convert_to_decimal(arrange_single_bit(7))))"
   ]
  },
  {
   "cell_type": "code",
   "execution_count": 90,
   "id": "5d738987",
   "metadata": {},
   "outputs": [],
   "source": [
    "# Cell 04\n",
    "\n",
    "# To fins all the integers of Hamming weight 3, we can take a\n",
    "# very similar approach. If we fix the position of the first,\n",
    "# the problem becomes arranging 2 integers over 7 spaces, which\n",
    "# is actually arranging one over 6, 5, 4, 3, 2, 1 spaces.\n",
    "# Then when we move the position of the first one bit, it's arranging\n",
    "# two bits over 6 spaces, which is actually one over 5, 4, 3, 2, 1\n",
    "# This goes on, and we can say the problem is really just arranging\n",
    "# two bits over 7, 6, 5, 4, 3, 2 spaces\n",
    "\n",
    "# So let's write a function that can do that arranging\n",
    "\n",
    "# Start out by specifying the number of spaces that you want to\n",
    "# arrange the two bits over.\n",
    "# For the case of hamming weight 3, we arrange 2 bits over 7 spaces\n",
    "# to start\n",
    "def arrange_two_bits(spaces):\n",
    "    new_hamming_strings = []\n",
    "    # Start the count\n",
    "    count = spaces\n",
    "    # Since we can't arrange 2 bits on 1 space, we need to stop earlier\n",
    "    while count > 1:\n",
    "        # Same principle as the first function, we're going to concatenate\n",
    "        # a vector of ones in front of an identity matrix\n",
    "        # But this time, we're arranging the one bit over 6, 5, 4, 3, 2, 1\n",
    "        # spaces, so we need a vector of ones with length 21\n",
    "        # But then we're going to repeat, and we'll need a vector of length 15\n",
    "        # And then on and on\n",
    "        place_holder = np.concatenate(\n",
    "            (\n",
    "                # See above comment for the rationale behind sum(range(count))\n",
    "                np.ones(sum(range(count)))[np.newaxis].T,\n",
    "                # And we're arranging the single bit over a space 1 smaller\n",
    "                arrange_single_bit(count - 1),\n",
    "            ),\n",
    "            axis=1,\n",
    "        )\n",
    "        # We're looking for bit strings of length 8 to be consistent\n",
    "        # See Cell 01 for 8 length rationale\n",
    "        for _ in range(spaces - count):\n",
    "            # So fill out any open space to the left with zeroes\n",
    "            place_holder = np.concatenate(\n",
    "                (np.zeros(sum(range(count)))[np.newaxis].T, place_holder), axis=1\n",
    "            )\n",
    "        # For the very first pass, we want to replace the empty list\n",
    "        # with the matrix of our values\n",
    "        if count == spaces:\n",
    "            new_hamming_strings = place_holder\n",
    "        # For every subsequent pass, we want to put the next values\n",
    "        # below the existing ones, extending our list\n",
    "        else:\n",
    "            new_hamming_strings = np.concatenate(\n",
    "                (new_hamming_strings, place_holder), axis=0\n",
    "            )\n",
    "        # Continue counting down\n",
    "        count -= 1\n",
    "    return new_hamming_strings"
   ]
  },
  {
   "cell_type": "code",
   "execution_count": 91,
   "id": "e340dd8a",
   "metadata": {},
   "outputs": [
    {
     "name": "stdout",
     "output_type": "stream",
     "text": [
      "The integers less than 256 with Hamming weight 3 are: \n",
      "[  7  11  13  14  19  21  22  25  26  28  35  37  38  41  42  44  49  50\n",
      "  52  56  67  69  70  73  74  76  81  82  84  88  97  98 100 104 112 131\n",
      " 133 134 137 138 140 145 146 148 152 161 162 164 168 176 193 194 196 200\n",
      " 208 224]\n"
     ]
    }
   ],
   "source": [
    "# Cell 05\n",
    "\n",
    "# Same principle as before, we can get those integers with hamming\n",
    "# weight of 3 by reducing the problem to arranging 2 bits, then one\n",
    "# bit.\n",
    "\n",
    "print(\"The integers less than 256 with Hamming weight 3 are: \")\n",
    "print(np.sort(hamming_three := convert_to_decimal(arrange_two_bits(7))))"
   ]
  },
  {
   "cell_type": "code",
   "execution_count": 92,
   "id": "87c325c8",
   "metadata": {},
   "outputs": [],
   "source": [
    "# Cell 06\n",
    "\n",
    "# Finally, we have to find those with Hamming Weight 4\n",
    "# This is just like those with 2 and 3, we're going to reduce the problem\n",
    "# 4 ones over 8 spaces is 3 over 7 which is 2 over 6, which is one over 5\n",
    "# The problem is growing a bit out of proportions but we'll stick\n",
    "# to our trick\n",
    "\n",
    "\n",
    "def arrange_three_bits(spaces: int):\n",
    "    new_hamming_strings = []\n",
    "    count = spaces\n",
    "\n",
    "    # Once again, we can't arrange 3 bits over 2 spaces, so we stop early\n",
    "    while count > 2:\n",
    "        place_holder = np.concatenate(\n",
    "            (\n",
    "                # This time, we're arranging more and more matrices, so we need to take\n",
    "                # the cumsum, them sum the cumsums!\n",
    "                np.ones(sum(np.cumsum(range(count - 1))))[np.newaxis].T,\n",
    "                # And we're arranging the two bits over a space 1 smaller\n",
    "                arrange_two_bits(count - 1),\n",
    "            ),\n",
    "            axis=1,\n",
    "        )\n",
    "        # We're looking for bit strings of length 8 to be consistent\n",
    "        # See Cell 01 for 8 length rationale\n",
    "        for _ in range(spaces - count):\n",
    "            # So fill out any open space to the left with zeroes\n",
    "            place_holder = np.concatenate(\n",
    "                (\n",
    "                    np.zeros(sum(np.cumsum(range(count - 1))))[np.newaxis].T,\n",
    "                    place_holder,\n",
    "                ),\n",
    "                axis=1,\n",
    "            )\n",
    "        # For the very first pass, we want to replace the empty list\n",
    "        # with the matrix of our values\n",
    "        if count == spaces:\n",
    "            new_hamming_strings = place_holder\n",
    "        # For every subsequent pass, we want to put the next values\n",
    "        # below the existing ones, extending our list\n",
    "        else:\n",
    "            new_hamming_strings = np.concatenate(\n",
    "                (new_hamming_strings, place_holder), axis=0\n",
    "            )\n",
    "        # Continue counting down\n",
    "        count -= 1\n",
    "    return new_hamming_strings"
   ]
  },
  {
   "cell_type": "code",
   "execution_count": 93,
   "id": "324ce81c",
   "metadata": {},
   "outputs": [
    {
     "name": "stdout",
     "output_type": "stream",
     "text": [
      "The integers less than 256 with Hamming weight 4 are: \n",
      "[ 15  23  27  29  30  39  43  45  46  51  53  54  57  58  60  71  75  77\n",
      "  78  83  85  86  89  90  92  99 101 102 105 106 108 113 114 116 120 135\n",
      " 139 141 142 147 149 150 153 154 156 163 165 166 169 170 172 177 178 180\n",
      " 184 195 197 198 201 202 204 209 210 212 216 225 226 228 232 240]\n"
     ]
    }
   ],
   "source": [
    "# Cell 07\n",
    "\n",
    "# Same idea as before, now we want to print out the integers\n",
    "# with hamming weight 4, so we employ the problem of arranging 3 bits over\n",
    "# 7, 6, 5, 4, 3 spaces...\n",
    "\n",
    "print(\"The integers less than 256 with Hamming weight 4 are: \")\n",
    "print(np.sort(hamming_four := convert_to_decimal(arrange_three_bits(7))))"
   ]
  },
  {
   "cell_type": "code",
   "execution_count": 94,
   "id": "6f901cb0",
   "metadata": {},
   "outputs": [
    {
     "name": "stdout",
     "output_type": "stream",
     "text": [
      "All of the integers less than 256 with Hamming weight of 2, 3, or 4: \n",
      " [  3   5   6   7   9  10  11  12  13  14  15  17  18  19  20  21  22  23\n",
      "  24  25  26  27  28  29  30  33  34  35  36  37  38  39  40  41  42  43\n",
      "  44  45  46  48  49  50  51  52  53  54  56  57  58  60  65  66  67  68\n",
      "  69  70  71  72  73  74  75  76  77  78  80  81  82  83  84  85  86  88\n",
      "  89  90  92  96  97  98  99 100 101 102 104 105 106 108 112 113 114 116\n",
      " 120 129 130 131 132 133 134 135 136 137 138 139 140 141 142 144 145 146\n",
      " 147 148 149 150 152 153 154 156 160 161 162 163 164 165 166 168 169 170\n",
      " 172 176 177 178 180 184 192 193 194 195 196 197 198 200 201 202 204 208\n",
      " 209 210 212 216 224 225 226 228 232 240]\n"
     ]
    }
   ],
   "source": [
    "# Cell 08\n",
    "\n",
    "# To display all positive integers less than 256 with Hamming\n",
    "# weights 2, 3, or 4, we can concatenate these matrices and sort\n",
    "\n",
    "all_integers = np.concatenate((hamming_two, hamming_three, hamming_four))\n",
    "\n",
    "print(\"All of the integers less than 256 with Hamming weight \", end=\"\")\n",
    "print(f\"of 2, 3, or 4: \\n {np.sort(all_integers)}\")"
   ]
  },
  {
   "cell_type": "code",
   "execution_count": 95,
   "id": "d0b6284f",
   "metadata": {},
   "outputs": [],
   "source": [
    "# While this isn't really a viable algorithm for getting to larger\n",
    "# and larger hamming weights, it's at least a start and an idea\n",
    "# that plays on matrices in a fun way maybe"
   ]
  }
 ],
 "metadata": {
  "kernelspec": {
   "display_name": "qis101",
   "language": "python",
   "name": "python3"
  },
  "language_info": {
   "codemirror_mode": {
    "name": "ipython",
    "version": 3
   },
   "file_extension": ".py",
   "mimetype": "text/x-python",
   "name": "python",
   "nbconvert_exporter": "python",
   "pygments_lexer": "ipython3",
   "version": "3.12.11"
  }
 },
 "nbformat": 4,
 "nbformat_minor": 5
}
